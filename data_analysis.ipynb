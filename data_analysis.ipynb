{
 "cells": [
  {
   "cell_type": "code",
   "execution_count": 1,
   "metadata": {},
   "outputs": [],
   "source": [
    "import pandas as pd\n",
    "import numpy as np\n",
    "import matplotlib.pyplot as plt\n",
    "import seaborn as sns"
   ]
  },
  {
   "cell_type": "code",
   "execution_count": 2,
   "metadata": {},
   "outputs": [
    {
     "data": {
      "text/plain": [
       "Index(['epoch', 'question', 'options', 'true_answer', 'predicted_answer',\n",
       "       'correct', 'char_count', 'time_seconds', 'thinking_mode', 'prompt_mode',\n",
       "       'main_model', 'small_model'],\n",
       "      dtype='object')"
      ]
     },
     "execution_count": 2,
     "metadata": {},
     "output_type": "execute_result"
    }
   ],
   "source": [
    "df = pd.read_csv('results_detailed.csv')\n",
    "df.columns"
   ]
  },
  {
   "cell_type": "markdown",
   "metadata": {},
   "source": [
    "# Question 1: Do Hybrid Reasoners Maintain High Predictive Accuracy\n",
    "\n",
    "Show bar plot of highest reasoning, non-reasoning, and hybrid models"
   ]
  },
  {
   "cell_type": "code",
   "execution_count": 3,
   "metadata": {},
   "outputs": [],
   "source": [
    "# Get unique thinking modes\n",
    "thinking_modes = df['thinking_mode'].unique()\n",
    "\n",
    "# Store best configs and their stats for each thinking mode\n",
    "best_models = {}\n",
    "\n",
    "for mode in thinking_modes:\n",
    "    # Filter data for this thinking mode\n",
    "    mode_data = df[df['thinking_mode'] == mode]\n",
    "    \n",
    "    # Group by config and calculate mean accuracy\n",
    "    config_stats = mode_data.groupby(['prompt_mode', 'main_model', 'small_model'])['correct'].agg(['mean', 'std', 'count']).reset_index()\n",
    "    \n",
    "    # Find config with highest mean accuracy\n",
    "    best_config = config_stats.loc[config_stats['mean'].idxmax()]\n",
    "    \n",
    "    # Get corresponding data for this best config\n",
    "    best_config_data = mode_data[\n",
    "        (mode_data['prompt_mode'] == best_config['prompt_mode']) & \n",
    "        (mode_data['main_model'] == best_config['main_model']) & \n",
    "        (mode_data['small_model'] == best_config['small_model'])\n",
    "    ]\n",
    "    \n",
    "    # Store results\n",
    "    mode_str = 'Non-Reasoner'\n",
    "    if mode == 1:\n",
    "        mode_str = 'Reasoner'\n",
    "    elif mode == 2:\n",
    "        mode_str = 'Hybrid Reasoner (Ours)'\n",
    "    config_str = mode_str\n",
    "\n",
    "    best_models[mode] = best_config_data"
   ]
  },
  {
   "cell_type": "code",
   "execution_count": 4,
   "metadata": {},
   "outputs": [
    {
     "data": {
      "image/png": "[encoded data removed]",
      "text/plain": [
       "<Figure size 1000x600 with 1 Axes>"
      ]
     },
     "metadata": {},
     "output_type": "display_data"
    }
   ],
   "source": [
    "# Make bar graph of best models accuracy\n",
    "import seaborn as sns\n",
    "\n",
    "# Set seaborn style\n",
    "sns.set_context(\"paper\")\n",
    "\n",
    "# Create lists to store data for plotting\n",
    "modes = []\n",
    "means = []\n",
    "std_errs = []\n",
    "\n",
    "# Calculate mean and standard error for each best model\n",
    "for mode in range(len(best_models)):\n",
    "    data = best_models[mode]\n",
    "    mode_str = 'Non-Reasoner'\n",
    "    if mode == 1:\n",
    "        mode_str = 'Reasoner'\n",
    "    elif mode == 2:\n",
    "        mode_str = 'Hybrid Reasoner (Ours)'\n",
    "        \n",
    "    modes.append(mode_str)\n",
    "    means.append(data['correct'].mean())\n",
    "    std_errs.append(data['correct'].std() / np.sqrt(len(data)))\n",
    "\n",
    "# Create bar plot with different colors\n",
    "plt.figure(figsize=(10, 6))\n",
    "colors = sns.color_palette()\n",
    "bars = plt.bar(modes, means, yerr=std_errs, capsize=5, color=colors[:len(modes)])\n",
    "\n",
    "# Customize plot\n",
    "plt.ylabel('Accuracy')\n",
    "plt.title('Accuracy by Reasoning Mode')\n",
    "plt.ylim(0, 1)  # Set y-axis from 0 to 1 since these are accuracies\n",
    "\n",
    "plt.show()\n"
   ]
  },
  {
   "cell_type": "markdown",
   "metadata": {},
   "source": [
    "# Question 2: What is the Relationship between Reasoning Compute and Accuracy for Hybrid Models?\n",
    "\n",
    "- line plot where x is total number of model parameters for our approach (small model + big), y axis is number of seconds to produce prediction, horizontal line for best reasoning model/non-reasoning model\n",
    "\n",
    "- line plot where x is total number of model parameters for our approach (small model + big), y axis is number of tokens to produce prediction, horizontal line for best reasoning model/non-reasoning model\n",
    "\n",
    "Each of these plots should share a y axis with accuracy as a function of model size.\n",
    "\n",
    "only use data for best accuracy's prompt mode (i.e. tokens, relative, seconds, etc.)"
   ]
  },
  {
   "cell_type": "code",
   "execution_count": 14,
   "metadata": {},
   "outputs": [],
   "source": [
    "# Get best hybrid model info and make helper functions\n",
    "best_hybrid = best_models[2]\n",
    "best_hybrid.columns\n",
    "def compute_model_size(main_model, small_model):\n",
    "    def compute_single_size(model):\n",
    "        if '0.6B' in model:\n",
    "            return 0.6\n",
    "        elif '1.7B' in model:\n",
    "            return 1.7\n",
    "        elif '4B' in model:\n",
    "            return 4\n",
    "        else:\n",
    "            return 0\n",
    "    return compute_single_size(main_model) + compute_single_size(small_model)\n",
    "\n",
    "best_prompt_mode = best_hybrid['prompt_mode'].unique()[0]"
   ]
  },
  {
   "cell_type": "code",
   "execution_count": null,
   "metadata": {},
   "outputs": [],
   "source": [
    "# Filter for thinking mode 2 and best prompt mode\n",
    "hybrid_data = df[(df['thinking_mode'] == 2) & (df['prompt_mode'] == best_prompt_mode)]\n",
    "\n",
    "# Calculate model sizes and accuracies\n",
    "model_size_accuracies = {}\n",
    "model_size_times = {}\n",
    "model_size_chars = {}\n",
    "for _, row in hybrid_data.iterrows():\n",
    "    model_size = compute_model_size(row['main_model'], row['small_model'])\n",
    "    if model_size not in model_size_accuracies:\n",
    "        model_size_accuracies[model_size] = []\n",
    "        model_size_times[model_size] = []\n",
    "        model_size_chars[model_size] = []\n",
    "    model_size_accuracies[model_size].append(row['correct'])\n",
    "    model_size_times[model_size].append(row['time_seconds'])\n",
    "    model_size_chars[model_size].append(row['char_count'])\n",
    "\n",
    "\n"
   ]
  },
  {
   "cell_type": "code",
   "execution_count": 16,
   "metadata": {},
   "outputs": [
    {
     "data": {
      "text/plain": [
       "dict_keys([1.2, 4.6, 2.3, 5.7, 3.4, 8])"
      ]
     },
     "execution_count": 16,
     "metadata": {},
     "output_type": "execute_result"
    }
   ],
   "source": []
  },
  {
   "cell_type": "markdown",
   "metadata": {},
   "source": [
    "# Question 3: Through what mechanisms should meta-reasoners structure their thoughts?\n",
    "\n",
    "- line plot where x is total number of model parameters for our approach (small model + big), y axis is accuracy, different lines for each of the different variations we try (tell big model how long to think in terms of language, such as \"don't think too hard\", seconds, or tokens), horizontal line for best reasoning model/non-reasoning model"
   ]
  },
  {
   "cell_type": "markdown",
   "metadata": {},
   "source": [
    "# Random bs to get initial plots"
   ]
  },
  {
   "cell_type": "code",
   "execution_count": null,
   "metadata": {},
   "outputs": [],
   "source": [
    "# Get unique thinking modes\n",
    "thinking_modes = df['thinking_mode'].unique()\n",
    "\n",
    "# Store best configs and their stats for each thinking mode\n",
    "best_configs = []\n",
    "accuracies = []\n",
    "acc_std_errors = []\n",
    "times = []\n",
    "time_std_errors = []\n",
    "chars = []\n",
    "char_std_errors = []\n",
    "\n",
    "for mode in thinking_modes:\n",
    "    # Filter data for this thinking mode\n",
    "    mode_data = df[df['thinking_mode'] == mode]\n",
    "    \n",
    "    # Group by config and calculate mean accuracy\n",
    "    config_stats = mode_data.groupby(['prompt_mode', 'main_model', 'small_model'])['correct'].agg(['mean', 'std', 'count']).reset_index()\n",
    "    \n",
    "    # Find config with highest mean accuracy\n",
    "    best_config = config_stats.loc[config_stats['mean'].idxmax()]\n",
    "    \n",
    "    # Get corresponding data for this best config\n",
    "    best_config_data = mode_data[\n",
    "        (mode_data['prompt_mode'] == best_config['prompt_mode']) & \n",
    "        (mode_data['main_model'] == best_config['main_model']) & \n",
    "        (mode_data['small_model'] == best_config['small_model'])\n",
    "    ]\n",
    "    \n",
    "    # Store results\n",
    "    mode_str = 'Non-Reasoner'\n",
    "    if mode == 1:\n",
    "        mode_str = 'Reasoner'\n",
    "    elif mode == 2:\n",
    "        mode_str = 'Hybrid Reasoner (Ours)'\n",
    "    config_str = f\"{mode_str}\"\n",
    "    best_configs.append(config_str)\n",
    "    \n",
    "    # Accuracy stats\n",
    "    accuracies.append(best_config['mean'])\n",
    "    acc_std_errors.append(best_config['std'] / np.sqrt(best_config['count']))\n",
    "    \n",
    "    # Time stats\n",
    "    times.append(best_config_data['time_seconds'].mean())\n",
    "    time_std_errors.append(best_config_data['time_seconds'].std() / np.sqrt(len(best_config_data)))\n",
    "    \n",
    "    # Character count stats  \n",
    "    chars.append(best_config_data['char_count'].mean())\n",
    "    char_std_errors.append(best_config_data['char_count'].std() / np.sqrt(len(best_config_data)))\n",
    "\n",
    "# Define colors for each thinking mode\n",
    "colors = sns.color_palette('husl', n_colors=len(thinking_modes))\n",
    "\n",
    "# Create subplots\n",
    "fig, (ax1, ax2, ax3) = plt.subplots(1, 3, figsize=(20, 6))\n",
    "\n",
    "# Accuracy plot\n",
    "bars1 = ax1.bar(best_configs, accuracies, yerr=acc_std_errors, capsize=5, color=colors)\n",
    "ax1.set_xlabel('Thinking Mode', labelpad=20)\n",
    "ax1.set_ylabel('Mean Accuracy')\n",
    "ax1.set_title('Accuracy by Thinking Mode')\n",
    "# for bar, acc in zip(bars1, accuracies):\n",
    "#     ax1.text(bar.get_x() + bar.get_width()/2, bar.get_height(),\n",
    "#              f'{acc:.3f}', ha='center', va='bottom')\n",
    "\n",
    "# Time plot\n",
    "bars2 = ax2.bar(best_configs, times, yerr=time_std_errors, capsize=5, color=colors)\n",
    "ax2.set_xlabel('Thinking Mode', labelpad=20)\n",
    "ax2.set_ylabel('Mean Time (seconds)')\n",
    "ax2.set_title('Response Time by Thinking Mode')\n",
    "# for bar, time in zip(bars2, times):\n",
    "#     ax2.text(bar.get_x() + bar.get_width()/2, bar.get_height(),\n",
    "#              f'{time:.1f}', ha='center', va='bottom')\n",
    "\n",
    "# Character count plot\n",
    "bars3 = ax3.bar(best_configs, chars, yerr=char_std_errors, capsize=5, color=colors)\n",
    "ax3.set_xlabel('Thinking Mode', labelpad=20)\n",
    "ax3.set_ylabel('Mean Character Count')\n",
    "ax3.set_title('Response Length by Thinking Mode')\n",
    "# for bar, char in zip(bars3, chars):\n",
    "#     ax3.text(bar.get_x() + bar.get_width()/2, bar.get_height(),\n",
    "#              f'{char:.0f}', ha='center', va='bottom')\n",
    "\n",
    "plt.tight_layout()\n",
    "\n",
    "# Rotate x-axis labels if needed\n",
    "# plt.xticks(rotation=45, ha='right')\n",
    "\n",
    "# # Add value labels on top of bars\n",
    "# for bar, acc in zip(bars, accuracies):\n",
    "#     plt.text(bar.get_x() + bar.get_width()/2, bar.get_height(),\n",
    "#              f'{acc:.3f}', ha='center', va='bottom')\n",
    "\n",
    "plt.tight_layout()\n",
    "\n",
    "plt.savefig('accuracy_by_thinking_mode.png')\n",
    "plt.show()\n",
    "plt.close()\n"
   ]
  },
  {
   "cell_type": "code",
   "execution_count": null,
   "metadata": {},
   "outputs": [],
   "source": []
  }
 ],
 "metadata": {
  "kernelspec": {
   "display_name": "cmarl",
   "language": "python",
   "name": "python3"
  },
  "language_info": {
   "codemirror_mode": {
    "name": "ipython",
    "version": 3
   },
   "file_extension": ".py",
   "mimetype": "text/x-python",
   "name": "python",
   "nbconvert_exporter": "python",
   "pygments_lexer": "ipython3",
   "version": "3.12.9"
  }
 },
 "nbformat": 4,
 "nbformat_minor": 2
}
